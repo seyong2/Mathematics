{
 "cells": [
  {
   "cell_type": "markdown",
   "metadata": {},
   "source": [
    "We are going to calculate the breakdown value of the median."
   ]
  },
  {
   "cell_type": "code",
   "execution_count": 6,
   "metadata": {},
   "outputs": [],
   "source": [
    "import numpy as np"
   ]
  },
  {
   "cell_type": "code",
   "execution_count": 121,
   "metadata": {},
   "outputs": [],
   "source": [
    "size = 100"
   ]
  },
  {
   "cell_type": "code",
   "execution_count": 134,
   "metadata": {},
   "outputs": [],
   "source": [
    "X = np.random.randint(0, 20, size=size)"
   ]
  },
  {
   "cell_type": "code",
   "execution_count": 106,
   "metadata": {},
   "outputs": [],
   "source": [
    "X.sort()"
   ]
  },
  {
   "cell_type": "code",
   "execution_count": 107,
   "metadata": {},
   "outputs": [
    {
     "data": {
      "text/plain": [
       "10.0"
      ]
     },
     "execution_count": 107,
     "metadata": {},
     "output_type": "execute_result"
    }
   ],
   "source": [
    "np.median(X)"
   ]
  },
  {
   "cell_type": "markdown",
   "metadata": {},
   "source": [
    "Now, we replace (11-1)/2 = 5 observations by any values."
   ]
  },
  {
   "cell_type": "code",
   "execution_count": 137,
   "metadata": {},
   "outputs": [
    {
     "name": "stdout",
     "output_type": "stream",
     "text": [
      "breakdown value of the median is 0.52\n"
     ]
    }
   ],
   "source": [
    "for n in np.arange(1, len(X)+1):\n",
    "    temp = X.copy()\n",
    "    idx = random.sample(range(0, len(X)), n)\n",
    "    for i in idx:\n",
    "        temp[i] = np.random.randint(0, 200)\n",
    "    temp.sort()\n",
    "    if min(X) <= np.median(temp) <= max(X):\n",
    "        pass\n",
    "    else:\n",
    "        print(\"breakdown value of the median is {}\".format(n/len(X)))\n",
    "        break"
   ]
  },
  {
   "cell_type": "markdown",
   "metadata": {},
   "source": [
    "When n goes to infinity, this finite-sample breakdown value tends to be 50% (asymptotic breakdown value)."
   ]
  },
  {
   "cell_type": "markdown",
   "metadata": {},
   "source": [
    "Now, we are going to consider the breakdown value of the mean."
   ]
  },
  {
   "cell_type": "code",
   "execution_count": 138,
   "metadata": {},
   "outputs": [
    {
     "name": "stdout",
     "output_type": "stream",
     "text": [
      "breakdown value of the mean is 0.09\n"
     ]
    }
   ],
   "source": [
    "for n in np.arange(1, len(X)+1):\n",
    "    temp = X.copy()\n",
    "    idx = random.sample(range(0, len(X)), n)\n",
    "    for i in idx:\n",
    "        temp[i] = np.random.randint(0, 200)\n",
    "    if min(X) <= np.mean(temp) <= max(X):\n",
    "        pass\n",
    "    else:\n",
    "        print(\"breakdown value of the mean is {}\".format(n/len(X)))\n",
    "        break"
   ]
  }
 ],
 "metadata": {
  "kernelspec": {
   "display_name": "Python 3",
   "language": "python",
   "name": "python3"
  },
  "language_info": {
   "codemirror_mode": {
    "name": "ipython",
    "version": 3
   },
   "file_extension": ".py",
   "mimetype": "text/x-python",
   "name": "python",
   "nbconvert_exporter": "python",
   "pygments_lexer": "ipython3",
   "version": "3.7.4"
  }
 },
 "nbformat": 4,
 "nbformat_minor": 2
}
