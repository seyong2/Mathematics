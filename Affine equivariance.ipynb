{
 "cells": [
  {
   "cell_type": "markdown",
   "metadata": {},
   "source": [
    "We say that a location estimator $\\hat{\\mu}$ and a scale estimator $\\hat{\\Sigma}$ are affine equivariant if $\\hat{\\mu}(\\{Ax_{1}+b, ..., Ax_{n}+b\\})=A\\hat{\\mu}(\\{x_{1},...,x_{n}\\})+b$ and $\\hat{\\Sigma}(\\{Ax_{1}+b, ..., Ax_{n}+b\\})=A\\hat{\\Sigma}(\\{x_{1},...,x_{n}\\})A'$ for any nonsingular matrix $A$ and any vector $b$."
   ]
  },
  {
   "cell_type": "markdown",
   "metadata": {},
   "source": [
    "I would like to prove if the coordinate-wise median is not affine equivariant. First, the coordinate-wise median is defined as follows:\n",
    "$\\hat{\\mu}(\\{x_{1},...,x_{n}\\})=(med^{n}_{i=1}x_{i1},...,med^{n}_{i=1}x_{ip})'$."
   ]
  },
  {
   "cell_type": "code",
   "execution_count": 1,
   "metadata": {
    "ExecuteTime": {
     "end_time": "2021-03-04T11:49:13.564170Z",
     "start_time": "2021-03-04T11:49:12.458158Z"
    }
   },
   "outputs": [],
   "source": [
    "import numpy as np\n",
    "import pandas as pd"
   ]
  },
  {
   "cell_type": "markdown",
   "metadata": {},
   "source": [
    "I am going to create a matrix with 20 rows and 5 columns filled with random integer values ranging between 1 and 20."
   ]
  },
  {
   "cell_type": "code",
   "execution_count": 48,
   "metadata": {
    "ExecuteTime": {
     "end_time": "2021-03-04T12:45:47.161140Z",
     "start_time": "2021-03-04T12:45:47.150176Z"
    }
   },
   "outputs": [],
   "source": [
    "np.random.seed(1234)\n",
    "data = np.array(np.random.randint(low=1, high=20, size=100)).reshape(-1, 20)"
   ]
  },
  {
   "cell_type": "code",
   "execution_count": 49,
   "metadata": {
    "ExecuteTime": {
     "end_time": "2021-03-04T12:45:49.654535Z",
     "start_time": "2021-03-04T12:45:49.645561Z"
    }
   },
   "outputs": [
    {
     "data": {
      "text/plain": [
       "(5, 20)"
      ]
     },
     "execution_count": 49,
     "metadata": {},
     "output_type": "execute_result"
    }
   ],
   "source": [
    "data.shape"
   ]
  },
  {
   "cell_type": "code",
   "execution_count": 50,
   "metadata": {
    "ExecuteTime": {
     "end_time": "2021-03-04T12:45:51.634362Z",
     "start_time": "2021-03-04T12:45:51.619404Z"
    }
   },
   "outputs": [],
   "source": [
    "coordinate_wise_median = []\n",
    "for c in np.arange(0, data.shape[0]):\n",
    "    coordinate_wise_median.append(np.median(np.sort(data[:,c])))"
   ]
  },
  {
   "cell_type": "code",
   "execution_count": 51,
   "metadata": {
    "ExecuteTime": {
     "end_time": "2021-03-04T12:45:53.611494Z",
     "start_time": "2021-03-04T12:45:53.590583Z"
    }
   },
   "outputs": [
    {
     "data": {
      "text/plain": [
       "[8.0, 12.0, 6.0, 10.0, 12.0]"
      ]
     },
     "execution_count": 51,
     "metadata": {},
     "output_type": "execute_result"
    }
   ],
   "source": [
    "coordinate_wise_median"
   ]
  },
  {
   "cell_type": "markdown",
   "metadata": {},
   "source": [
    "Now that we saw how the coordinate-wise median estimator works, let's define a nonsingular matrix $A$ and a vector $b$ in order to prove the coordinate-wise median is not affine equivariant."
   ]
  },
  {
   "cell_type": "code",
   "execution_count": 52,
   "metadata": {
    "ExecuteTime": {
     "end_time": "2021-03-04T12:45:55.763375Z",
     "start_time": "2021-03-04T12:45:55.748415Z"
    }
   },
   "outputs": [],
   "source": [
    "# Define A whose dimension is 2*5.\n",
    "A = np.array(np.random.randint(low=1, high=5, size=10)).reshape(2, 5)\n",
    "\n",
    "# Define a vector b which is a column vector.\n",
    "b = np.array(np.random.randint(low=1, high=10, size=2)).reshape(2, 1)"
   ]
  },
  {
   "cell_type": "markdown",
   "metadata": {},
   "source": [
    "## $\\hat{\\mu}(\\{Ax_{1}+b, ..., Ax_{n}+b\\})$\n",
    "We will transform the data using the matrix $A$ and the vector $b$. The transformed data will have a dimension 2 $\\times$ 20."
   ]
  },
  {
   "cell_type": "code",
   "execution_count": 66,
   "metadata": {
    "ExecuteTime": {
     "end_time": "2021-03-04T12:53:35.603147Z",
     "start_time": "2021-03-04T12:53:35.581241Z"
    }
   },
   "outputs": [],
   "source": [
    "dt = []\n",
    "for c in np.arange(0, data.shape[1]):\n",
    "    dt.append(np.dot(A, data[:, c].reshape(-1, 1)) + b)"
   ]
  },
  {
   "cell_type": "code",
   "execution_count": 71,
   "metadata": {
    "ExecuteTime": {
     "end_time": "2021-03-04T12:54:35.574809Z",
     "start_time": "2021-03-04T12:54:35.554867Z"
    }
   },
   "outputs": [],
   "source": [
    "dt = np.asarray(dt).reshape(2, 20)"
   ]
  },
  {
   "cell_type": "markdown",
   "metadata": {},
   "source": [
    "Now let's get the coordinate-wise median of this transformed data."
   ]
  },
  {
   "cell_type": "code",
   "execution_count": 83,
   "metadata": {
    "ExecuteTime": {
     "end_time": "2021-03-04T12:57:33.607139Z",
     "start_time": "2021-03-04T12:57:33.600131Z"
    }
   },
   "outputs": [],
   "source": [
    "cwm1 = []\n",
    "for r in np.arange(0, dt.shape[0]):\n",
    "    cwm1.append(np.median(np.sort(dt[r,:])))"
   ]
  },
  {
   "cell_type": "code",
   "execution_count": 85,
   "metadata": {
    "ExecuteTime": {
     "end_time": "2021-03-04T12:58:09.354788Z",
     "start_time": "2021-03-04T12:58:09.338838Z"
    }
   },
   "outputs": [
    {
     "data": {
      "text/plain": [
       "array([[104. ],\n",
       "       [100.5]])"
      ]
     },
     "execution_count": 85,
     "metadata": {},
     "output_type": "execute_result"
    }
   ],
   "source": [
    "np.asarray(cwm1).reshape(-1, 1)"
   ]
  },
  {
   "cell_type": "markdown",
   "metadata": {},
   "source": [
    "## $A\\hat{\\mu}(\\{x_{1},...,x_{n}\\})+b$\n",
    "We transform the coordinate-wise mean estimators to see if they are affine equivariant."
   ]
  },
  {
   "cell_type": "code",
   "execution_count": 38,
   "metadata": {
    "ExecuteTime": {
     "end_time": "2021-03-04T12:38:24.697832Z",
     "start_time": "2021-03-04T12:38:24.684867Z"
    }
   },
   "outputs": [],
   "source": [
    "coordinate_wise_median = np.asarray(coordinate_wise_median).reshape(-1, 1)"
   ]
  },
  {
   "cell_type": "code",
   "execution_count": 39,
   "metadata": {
    "ExecuteTime": {
     "end_time": "2021-03-04T12:38:40.090316Z",
     "start_time": "2021-03-04T12:38:40.074360Z"
    }
   },
   "outputs": [
    {
     "data": {
      "text/plain": [
       "array([[21.80875688],\n",
       "       [19.77324196]])"
      ]
     },
     "execution_count": 39,
     "metadata": {},
     "output_type": "execute_result"
    }
   ],
   "source": [
    "np.dot(A, coordinate_wise_median) + b"
   ]
  },
  {
   "cell_type": "markdown",
   "metadata": {},
   "source": [
    "As we can compare the values of two coordinate-wise medians, they are different which confirms that this estimator is not affine equivariant."
   ]
  }
 ],
 "metadata": {
  "kernelspec": {
   "display_name": "Python 3",
   "language": "python",
   "name": "python3"
  },
  "language_info": {
   "codemirror_mode": {
    "name": "ipython",
    "version": 3
   },
   "file_extension": ".py",
   "mimetype": "text/x-python",
   "name": "python",
   "nbconvert_exporter": "python",
   "pygments_lexer": "ipython3",
   "version": "3.7.4"
  },
  "toc": {
   "base_numbering": 1,
   "nav_menu": {},
   "number_sections": true,
   "sideBar": true,
   "skip_h1_title": false,
   "title_cell": "Table of Contents",
   "title_sidebar": "Contents",
   "toc_cell": false,
   "toc_position": {},
   "toc_section_display": true,
   "toc_window_display": false
  },
  "varInspector": {
   "cols": {
    "lenName": 16,
    "lenType": 16,
    "lenVar": 40
   },
   "kernels_config": {
    "python": {
     "delete_cmd_postfix": "",
     "delete_cmd_prefix": "del ",
     "library": "var_list.py",
     "varRefreshCmd": "print(var_dic_list())"
    },
    "r": {
     "delete_cmd_postfix": ") ",
     "delete_cmd_prefix": "rm(",
     "library": "var_list.r",
     "varRefreshCmd": "cat(var_dic_list()) "
    }
   },
   "types_to_exclude": [
    "module",
    "function",
    "builtin_function_or_method",
    "instance",
    "_Feature"
   ],
   "window_display": false
  }
 },
 "nbformat": 4,
 "nbformat_minor": 2
}
